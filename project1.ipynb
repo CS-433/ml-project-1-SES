{
 "cells": [
  {
   "cell_type": "code",
   "execution_count": 70,
   "metadata": {},
   "outputs": [
    {
     "name": "stdout",
     "output_type": "stream",
     "text": [
      "The autoreload extension is already loaded. To reload it, use:\n",
      "  %reload_ext autoreload\n"
     ]
    }
   ],
   "source": [
    "# Useful starting lines\n",
    "%matplotlib inline\n",
    "import numpy as np\n",
    "import matplotlib.pyplot as plt\n",
    "from proj1_helpers import *\n",
    "%load_ext autoreload\n",
    "%autoreload 2"
   ]
  },
  {
   "cell_type": "markdown",
   "metadata": {},
   "source": [
    "## Load the training data into feature matrix, class labels, and event ids:"
   ]
  },
  {
   "cell_type": "code",
   "execution_count": 69,
   "metadata": {},
   "outputs": [],
   "source": [
    "import datetime\n",
    "DATA_TRAIN_PATH = 'C:/Users/saadc/Desktop/EPFL/ML/ML_course/projects/project1/scripts/data/train.csv' # TODO: download train data and supply path here \n",
    "labels, input_data, ids = load_csv_data(DATA_TRAIN_PATH)"
   ]
  },
  {
   "cell_type": "code",
   "execution_count": 10,
   "metadata": {},
   "outputs": [],
   "source": [
    "# standardize the data : \n",
    "x, mean_x, std_x = standardize(input_data)\n",
    "y, tx = build_model_data(x, labels)"
   ]
  },
  {
   "cell_type": "code",
   "execution_count": 11,
   "metadata": {},
   "outputs": [
    {
     "data": {
      "text/plain": [
       "((250000,), (250000, 31))"
      ]
     },
     "execution_count": 11,
     "metadata": {},
     "output_type": "execute_result"
    }
   ],
   "source": [
    "y.shape, tx.shape\n"
   ]
  },
  {
   "cell_type": "markdown",
   "metadata": {},
   "source": [
    "## Do your thing crazy machine learning thing here :) ..."
   ]
  },
  {
   "cell_type": "markdown",
   "metadata": {},
   "source": [
    "# Least squares GD :"
   ]
  },
  {
   "cell_type": "code",
   "execution_count": 46,
   "metadata": {},
   "outputs": [
    {
     "name": "stdout",
     "output_type": "stream",
     "text": [
      "weights:  [-0.03381892  0.11391166 -0.03929939 -0.02139935 -0.00740797  0.00642086\n",
      "  0.05901993  0.0056357  -0.01375136 -0.01815117 -0.02155208 -0.01414564\n",
      " -0.01322023  0.00626779 -0.00716966 -0.01366855 -0.01368106 -0.02047625\n",
      " -0.01366609 -0.01365018 -0.01812219 -0.01363899 -0.02746221 -0.01383892\n",
      "  0.02178121  0.02054982  0.02054818  0.00238098  0.00622045  0.00621068\n",
      " -0.02123287]\n",
      "loss:  0.4186061051583552\n"
     ]
    }
   ],
   "source": [
    "# from gradient_descent import *\n",
    "from plots import gradient_descent_visualization\n",
    "from gradient_descent import gradient_descent\n",
    "# Define the parameters of the algorithm.\n",
    "max_iters = 100\n",
    "gamma = 0.01\n",
    "initial_w = np.zeros((31))\n",
    "\n",
    "w,loss = least_squares_GD(y, tx, initial_w, max_iters, gamma)\n",
    "\n",
    "print(\"weights: \",w)\n",
    "print(\"loss: \",loss)\n"
   ]
  },
  {
   "cell_type": "markdown",
   "metadata": {},
   "source": [
    "# Least squares SGD : "
   ]
  },
  {
   "cell_type": "code",
   "execution_count": 53,
   "metadata": {},
   "outputs": [
    {
     "name": "stdout",
     "output_type": "stream",
     "text": [
      "weights:  [-0.00984595  0.11463269 -0.01477643 -0.00467302 -0.00172128 -0.02070866\n",
      "  0.07870912 -0.02204042 -0.00393245 -0.00764001 -0.00303882 -0.00404477\n",
      " -0.00395393 -0.02106476  0.00431542 -0.00403212 -0.00354075  0.00073111\n",
      " -0.0036141  -0.00483119 -0.00751837 -0.00372381 -0.01047715 -0.0042298\n",
      " -0.08931301 -0.08868014 -0.08891326 -0.02753101 -0.0213922  -0.02117355\n",
      " -0.01604118]\n",
      "loss:  1.0469582865749252\n"
     ]
    }
   ],
   "source": [
    "from stochastic_gradient_descent import *\n",
    "w,loss = least_squares_SGD(y, tx, initial_w, max_iters, gamma)\n",
    "print(\"weights: \",w)\n",
    "print(\"loss: \",loss)"
   ]
  },
  {
   "cell_type": "markdown",
   "metadata": {},
   "source": [
    "# Least squares Normal equations: "
   ]
  },
  {
   "cell_type": "code",
   "execution_count": 56,
   "metadata": {},
   "outputs": [
    {
     "name": "stdout",
     "output_type": "stream",
     "text": [
      "weights:  [-6.50837738e+02  3.13398434e-02 -3.09732207e+00 -2.70524979e+00\n",
      " -2.06814265e-01 -1.33792779e+00  1.94826080e-01 -1.03239658e+01\n",
      "  1.48326944e+02 -4.76854731e-02 -8.00648402e+02 -9.37300487e+01\n",
      "  4.14178761e+01  1.95969853e+01  8.04361958e+02 -1.14017107e-01\n",
      " -4.31615713e-01  8.06301529e+02 -1.53514846e-01  3.68155628e-01\n",
      "  1.60070378e+00  9.47330280e-02 -2.16987098e-01 -9.17012631e+01\n",
      " -9.49514703e-02  8.74808962e-02  1.48713647e-01 -3.03346445e-02\n",
      " -2.85288993e+00 -5.12813578e+00  8.00322219e+02]\n",
      "loss:  0.33944574670248323\n"
     ]
    }
   ],
   "source": [
    "w,loss = least_squares(y, tx)\n",
    "print(\"weights: \",w)\n",
    "print(\"loss: \",loss)"
   ]
  },
  {
   "cell_type": "markdown",
   "metadata": {},
   "source": [
    "# Ridge regression : "
   ]
  },
  {
   "cell_type": "code",
   "execution_count": 66,
   "metadata": {},
   "outputs": [
    {
     "name": "stdout",
     "output_type": "stream",
     "text": [
      "weights:  [-0.48647632  0.11956947 -3.82726687 -0.66404646 -0.6744063   0.34916556\n",
      "  0.28705026 -0.99589847  1.40560617  0.01896554  1.31258435 -0.87638103\n",
      "  2.32022702  0.17479113  2.71253068 -0.18933859 -0.3227892   0.68812941\n",
      " -0.19858309 -0.03619472  2.01847621 -0.10812857 -0.22508119 -0.41528266\n",
      "  0.57965844 -0.25896251 -0.25812042  0.6447507  -0.18387895 -0.27667878\n",
      " -2.48113776]\n",
      "loss:  0.35534893641226006\n"
     ]
    }
   ],
   "source": [
    "lambda_ = 0.3\n",
    "w,loss  = ridge_regression(y,tx,lambda_)\n",
    "print(\"weights: \",w)\n",
    "print(\"loss: \",loss)"
   ]
  },
  {
   "cell_type": "markdown",
   "metadata": {},
   "source": [
    "# logistic regression : "
   ]
  },
  {
   "cell_type": "markdown",
   "metadata": {},
   "source": [
    "# Reg logistic regression : \n"
   ]
  },
  {
   "cell_type": "markdown",
   "metadata": {},
   "source": [
    "# 1. Split the data"
   ]
  },
  {
   "cell_type": "code",
   "execution_count": 85,
   "metadata": {},
   "outputs": [],
   "source": [
    "ratio = 0.7\n",
    "tx_tr, tx_te, y_tr, y_te = split_data(tx, y, ratio)"
   ]
  },
  {
   "cell_type": "markdown",
   "metadata": {},
   "source": [
    "# 2. Handle outliers "
   ]
  },
  {
   "cell_type": "markdown",
   "metadata": {},
   "source": [
    "# 3 Accuracy of the models"
   ]
  },
  {
   "cell_type": "code",
   "execution_count": 106,
   "metadata": {},
   "outputs": [
    {
     "name": "stdout",
     "output_type": "stream",
     "text": [
      "accuracy: 0.7440533333333333\n"
     ]
    }
   ],
   "source": [
    "weights, loss = least_squares(y_tr, tx_tr)\n",
    "y_pred = predict_labels(weights, tx_te)\n",
    "accu  = accuracy(y_pred,y_te)\n",
    "print(\"accuracy:\",accu)"
   ]
  },
  {
   "cell_type": "markdown",
   "metadata": {},
   "source": [
    "## Generate predictions and save ouput in csv format for submission:"
   ]
  },
  {
   "cell_type": "code",
   "execution_count": 102,
   "metadata": {},
   "outputs": [],
   "source": [
    "DATA_TEST_PATH = 'C:/Users/saadc/Desktop/EPFL/ML/ML_course/projects/project1/scripts/data/test.csv'  # TODO: download train data and supply path here \n",
    "_, tX_test, ids_test = load_csv_data(DATA_TEST_PATH)"
   ]
  },
  {
   "cell_type": "code",
   "execution_count": 108,
   "metadata": {},
   "outputs": [
    {
     "data": {
      "text/plain": [
       "(568238, 1)"
      ]
     },
     "execution_count": 108,
     "metadata": {},
     "output_type": "execute_result"
    }
   ],
   "source": [
    "weights = weights[1:31]\n",
    "y_pred = predict_labels(weights, tX_test)\n",
    "y_pred.shape"
   ]
  },
  {
   "cell_type": "code",
   "execution_count": 109,
   "metadata": {},
   "outputs": [],
   "source": [
    "OUTPUT_PATH = 'C:/Users/saadc/Desktop/EPFL/ML/ML_course/projects/project1/scripts/data/pred.csv' # TODO: fill in desired name of output file for submission\n",
    "create_csv_submission(ids_test, y_pred, OUTPUT_PATH)"
   ]
  },
  {
   "cell_type": "code",
   "execution_count": null,
   "metadata": {},
   "outputs": [],
   "source": []
  }
 ],
 "metadata": {
  "anaconda-cloud": {},
  "kernelspec": {
   "display_name": "Python 3",
   "language": "python",
   "name": "python3"
  },
  "language_info": {
   "codemirror_mode": {
    "name": "ipython",
    "version": 3
   },
   "file_extension": ".py",
   "mimetype": "text/x-python",
   "name": "python",
   "nbconvert_exporter": "python",
   "pygments_lexer": "ipython3",
   "version": "3.8.5"
  }
 },
 "nbformat": 4,
 "nbformat_minor": 1
}
