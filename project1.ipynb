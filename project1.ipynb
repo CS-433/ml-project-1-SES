{
 "cells": [
  {
   "cell_type": "code",
   "execution_count": 7,
   "metadata": {},
   "outputs": [
    {
     "name": "stdout",
     "output_type": "stream",
     "text": [
      "The autoreload extension is already loaded. To reload it, use:\n",
      "  %reload_ext autoreload\n"
     ]
    }
   ],
   "source": [
    "# Useful starting lines\n",
    "%matplotlib inline\n",
    "import numpy as np\n",
    "import matplotlib.pyplot as plt\n",
    "from proj1_helpers import *\n",
    "from implementations import *\n",
    "%load_ext autoreload\n",
    "%autoreload 2"
   ]
  },
  {
   "cell_type": "markdown",
   "metadata": {},
   "source": [
    "## Load the training data into feature matrix, class labels, and event ids:"
   ]
  },
  {
   "cell_type": "code",
   "execution_count": 3,
   "metadata": {},
   "outputs": [],
   "source": [
    "import datetime\n",
    "DATA_TRAIN_PATH = 'C:/Users/saadc/Desktop/EPFL/ML/ML_course/projects/project1/scripts/data/train.csv' # TODO: download train data and supply path here \n",
    "labels, input_data, ids = load_csv_data(DATA_TRAIN_PATH)"
   ]
  },
  {
   "cell_type": "code",
   "execution_count": 4,
   "metadata": {},
   "outputs": [],
   "source": [
    "# standardize the data : \n",
    "x, mean_x, std_x = standardize(input_data)\n",
    "y, tx = build_model_data(x, labels)"
   ]
  },
  {
   "cell_type": "code",
   "execution_count": 5,
   "metadata": {},
   "outputs": [
    {
     "data": {
      "text/plain": [
       "((250000,), (250000, 31))"
      ]
     },
     "execution_count": 5,
     "metadata": {},
     "output_type": "execute_result"
    }
   ],
   "source": [
    "y.shape, tx.shape\n"
   ]
  },
  {
   "cell_type": "markdown",
   "metadata": {},
   "source": [
    "## Do your thing crazy machine learning thing here :) ..."
   ]
  },
  {
   "cell_type": "markdown",
   "metadata": {},
   "source": [
    "# Least squares GD :"
   ]
  },
  {
   "cell_type": "code",
   "execution_count": 8,
   "metadata": {},
   "outputs": [
    {
     "name": "stdout",
     "output_type": "stream",
     "text": [
      "weights:  [-0.03381892  0.11391166 -0.03929939 -0.02139935 -0.00740797  0.00642086\n",
      "  0.05901993  0.0056357  -0.01375136 -0.01815117 -0.02155208 -0.01414564\n",
      " -0.01322023  0.00626779 -0.00716966 -0.01366855 -0.01368106 -0.02047625\n",
      " -0.01366609 -0.01365018 -0.01812219 -0.01363899 -0.02746221 -0.01383892\n",
      "  0.02178121  0.02054982  0.02054818  0.00238098  0.00622045  0.00621068\n",
      " -0.02123287]\n",
      "loss:  0.4186061051583552\n"
     ]
    }
   ],
   "source": [
    "# from gradient_descent import *\n",
    "from plots import gradient_descent_visualization\n",
    "from gradient_descent import gradient_descent\n",
    "\n",
    "# Define the parameters of the algorithm.\n",
    "max_iters = 100\n",
    "gamma = 0.01\n",
    "initial_w = np.zeros((31))\n",
    "\n",
    "w,loss = least_squares_GD(y, tx, initial_w, max_iters, gamma)\n",
    "\n",
    "print(\"weights: \",w)\n",
    "print(\"loss: \",loss)\n"
   ]
  },
  {
   "cell_type": "markdown",
   "metadata": {},
   "source": [
    "# Least squares SGD : "
   ]
  },
  {
   "cell_type": "code",
   "execution_count": 9,
   "metadata": {},
   "outputs": [
    {
     "name": "stdout",
     "output_type": "stream",
     "text": [
      "weights:  [-0.03409145  0.12532842 -0.04218312 -0.0267449   0.0173271   0.03561215\n",
      "  0.14155195  0.03403274 -0.0140913  -0.02765517 -0.00956274 -0.01448969\n",
      " -0.01300677  0.03523406 -0.00521846 -0.01360865 -0.01391551 -0.02424739\n",
      " -0.01316891 -0.01417998 -0.00632165 -0.01444593 -0.02258551 -0.01393304\n",
      "  0.07781061  0.05617947  0.05684413  0.03307229  0.03493932  0.03498735\n",
      " -0.00764389]\n",
      "loss:  0.35120520182926773\n"
     ]
    }
   ],
   "source": [
    "from stochastic_gradient_descent import *\n",
    "w,loss = least_squares_SGD(y, tx, initial_w, max_iters, gamma)\n",
    "print(\"weights: \",w)\n",
    "print(\"loss: \",loss)"
   ]
  },
  {
   "cell_type": "markdown",
   "metadata": {},
   "source": [
    "# Least squares Normal equations: "
   ]
  },
  {
   "cell_type": "code",
   "execution_count": 10,
   "metadata": {},
   "outputs": [
    {
     "name": "stdout",
     "output_type": "stream",
     "text": [
      "weights:  [-6.50837738e+02  3.13398434e-02 -3.09732207e+00 -2.70524979e+00\n",
      " -2.06814265e-01 -1.33792779e+00  1.94826080e-01 -1.03239658e+01\n",
      "  1.48326944e+02 -4.76854731e-02 -8.00648402e+02 -9.37300487e+01\n",
      "  4.14178761e+01  1.95969853e+01  8.04361958e+02 -1.14017107e-01\n",
      " -4.31615713e-01  8.06301529e+02 -1.53514846e-01  3.68155628e-01\n",
      "  1.60070378e+00  9.47330280e-02 -2.16987098e-01 -9.17012631e+01\n",
      " -9.49514703e-02  8.74808962e-02  1.48713647e-01 -3.03346445e-02\n",
      " -2.85288993e+00 -5.12813578e+00  8.00322219e+02]\n",
      "loss:  0.33944574670248323\n"
     ]
    }
   ],
   "source": [
    "w,loss = least_squares(y, tx)\n",
    "print(\"weights: \",w)\n",
    "print(\"loss: \",loss)"
   ]
  },
  {
   "cell_type": "markdown",
   "metadata": {},
   "source": [
    "# Ridge regression : "
   ]
  },
  {
   "cell_type": "code",
   "execution_count": 11,
   "metadata": {},
   "outputs": [
    {
     "name": "stdout",
     "output_type": "stream",
     "text": [
      "weights:  [-0.48647632  0.11956947 -3.82726687 -0.66404646 -0.6744063   0.34916556\n",
      "  0.28705026 -0.99589847  1.40560617  0.01896554  1.31258435 -0.87638103\n",
      "  2.32022702  0.17479113  2.71253068 -0.18933859 -0.3227892   0.68812941\n",
      " -0.19858309 -0.03619472  2.01847621 -0.10812857 -0.22508119 -0.41528266\n",
      "  0.57965844 -0.25896251 -0.25812042  0.6447507  -0.18387895 -0.27667878\n",
      " -2.48113776]\n",
      "loss:  0.35534893641226006\n"
     ]
    }
   ],
   "source": [
    "lambda_ = 0.3\n",
    "w,loss  = ridge_regression(y,tx,lambda_)\n",
    "print(\"weights: \",w)\n",
    "print(\"loss: \",loss)"
   ]
  },
  {
   "cell_type": "markdown",
   "metadata": {},
   "source": [
    "# logistic regression : "
   ]
  },
  {
   "cell_type": "markdown",
   "metadata": {},
   "source": [
    "# Reg logistic regression : \n"
   ]
  },
  {
   "cell_type": "markdown",
   "metadata": {},
   "source": [
    "# 1. Split the data"
   ]
  },
  {
   "cell_type": "code",
   "execution_count": 12,
   "metadata": {},
   "outputs": [],
   "source": [
    "ratio = 0.7\n",
    "tx_tr, tx_te, y_tr, y_te = split_data(tx, y, ratio)"
   ]
  },
  {
   "cell_type": "markdown",
   "metadata": {},
   "source": [
    "# 2. Handle outliers "
   ]
  },
  {
   "cell_type": "markdown",
   "metadata": {},
   "source": [
    "# 3 Accuracy of the models"
   ]
  },
  {
   "cell_type": "code",
   "execution_count": 13,
   "metadata": {},
   "outputs": [
    {
     "name": "stdout",
     "output_type": "stream",
     "text": [
      "accuracy: 0.7440533333333333\n"
     ]
    }
   ],
   "source": [
    "weights, loss = least_squares(y_tr, tx_tr)\n",
    "y_pred = predict_labels(weights, tx_te)\n",
    "accu  = accuracy(y_pred,y_te)\n",
    "print(\"accuracy:\",accu)"
   ]
  },
  {
   "cell_type": "markdown",
   "metadata": {},
   "source": [
    "# 4. Confusion matrix "
   ]
  },
  {
   "cell_type": "code",
   "execution_count": 14,
   "metadata": {},
   "outputs": [
    {
     "data": {
      "text/plain": [
       "Text(33.0, 0.5, 'expected')"
      ]
     },
     "execution_count": 14,
     "metadata": {},
     "output_type": "execute_result"
    },
    {
     "data": {
      "image/png": "[encoded data removed]",
      "text/plain": [
       "<Figure size 432x288 with 2 Axes>"
      ]
     },
     "metadata": {
      "needs_background": "light"
     },
     "output_type": "display_data"
    }
   ],
   "source": [
    "import seaborn as sn\n",
    "import matplotlib.pyplot as plt\n",
    "from sklearn.metrics import accuracy_score, confusion_matrix\n",
    "#confusion matrix\n",
    "plt.figure(1)\n",
    "cm=confusion_matrix(y_pred,y_te)\n",
    "sn.heatmap(cm,annot=True)\n",
    "plt.title(\"confusion matrix\")\n",
    "plt.xlabel(\"predicted\")\n",
    "plt.ylabel(\"expected\")\n"
   ]
  },
  {
   "cell_type": "markdown",
   "metadata": {},
   "source": [
    "## Generate predictions and save ouput in csv format for submission:"
   ]
  },
  {
   "cell_type": "code",
   "execution_count": 15,
   "metadata": {},
   "outputs": [],
   "source": [
    "DATA_TEST_PATH = 'C:/Users/saadc/Desktop/EPFL/ML/ML_course/projects/project1/scripts/data/test.csv'  # TODO: download train data and supply path here \n",
    "_, tX_test, ids_test = load_csv_data(DATA_TEST_PATH)"
   ]
  },
  {
   "cell_type": "code",
   "execution_count": 16,
   "metadata": {},
   "outputs": [
    {
     "data": {
      "text/plain": [
       "(568238, 1)"
      ]
     },
     "execution_count": 16,
     "metadata": {},
     "output_type": "execute_result"
    }
   ],
   "source": [
    "weights = weights[1:31]\n",
    "y_prediction = predict_labels(weights, tX_test)\n",
    "y_prediction.shape"
   ]
  },
  {
   "cell_type": "code",
   "execution_count": null,
   "metadata": {},
   "outputs": [],
   "source": [
    "OUTPUT_PATH = 'C:/Users/saadc/Desktop/EPFL/ML/ML_course/projects/project1/scripts/data/pred.csv' # TODO: fill in desired name of output file for submission\n",
    "create_csv_submission(ids_test, y_pred, OUTPUT_PATH)"
   ]
  },
  {
   "cell_type": "code",
   "execution_count": null,
   "metadata": {},
   "outputs": [],
   "source": []
  }
 ],
 "metadata": {
  "anaconda-cloud": {},
  "kernelspec": {
   "display_name": "Python 3",
   "language": "python",
   "name": "python3"
  },
  "language_info": {
   "codemirror_mode": {
    "name": "ipython",
    "version": 3
   },
   "file_extension": ".py",
   "mimetype": "text/x-python",
   "name": "python",
   "nbconvert_exporter": "python",
   "pygments_lexer": "ipython3",
   "version": "3.8.5"
  }
 },
 "nbformat": 4,
 "nbformat_minor": 1
}
